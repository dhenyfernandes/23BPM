{
 "cells": [
  {
   "cell_type": "markdown",
   "metadata": {},
   "source": [
    "# Exercícios"
   ]
  },
  {
   "cell_type": "markdown",
   "metadata": {},
   "source": [
    "### 1) Escreva uma função que receba dois números inteiros do usuário e retorne o produto entre eles se este for menor que 1000 ou a soma, caso contrário"
   ]
  },
  {
   "cell_type": "raw",
   "metadata": {},
   "source": [
    "Resultado esperado:\n",
    "\n",
    "Insira o primeiro número: 10\n",
    "Insira o segundo número: 10\n",
    "\n",
    "O resultado é: 100"
   ]
  },
  {
   "cell_type": "code",
   "execution_count": null,
   "metadata": {},
   "outputs": [],
   "source": [
    "# solução\n"
   ]
  },
  {
   "cell_type": "markdown",
   "metadata": {},
   "source": [
    "### 2) Escreva uma função que receba uma string do usuário e retorne apenas os caracteres referentes às posições pares do índice."
   ]
  },
  {
   "cell_type": "raw",
   "metadata": {},
   "source": [
    "Resultado esperado:\n",
    "    \n",
    "Insira a string: exemplo\n",
    "Imprimindo apenas os caracteres pares: \n",
    "e\n",
    "e\n",
    "p\n",
    "o"
   ]
  },
  {
   "cell_type": "code",
   "execution_count": null,
   "metadata": {},
   "outputs": [],
   "source": [
    "# solução"
   ]
  },
  {
   "cell_type": "markdown",
   "metadata": {},
   "source": [
    "### 3) Escreva uma função que receba uma lista de números inteiros e retorne True se o primeiro e o último número são iguais e False, caso contrário"
   ]
  },
  {
   "cell_type": "raw",
   "metadata": {},
   "source": [
    "Resultado esperado:\n",
    "\n",
    "A lista fornecida é: [10, 20, 30, 40, 10]\n",
    "O resultado é True\n",
    "A lista fornecida é: [10, 20, 30, 40, 50]\n",
    "O resultado é False"
   ]
  },
  {
   "cell_type": "code",
   "execution_count": null,
   "metadata": {},
   "outputs": [],
   "source": [
    "# solução"
   ]
  },
  {
   "cell_type": "markdown",
   "metadata": {},
   "source": [
    "### 4) Escreva uma função que receba uma lista de números inteiros, itere sobre esses números e imprima apenas os divisíveis por 5"
   ]
  },
  {
   "cell_type": "raw",
   "metadata": {},
   "source": [
    "A lista fornecida é: [10, 20, 33, 46, 55]\n",
    "Os números divisíveis por 5 na lista é(são):\n",
    "10\n",
    "20\n",
    "55"
   ]
  },
  {
   "cell_type": "code",
   "execution_count": null,
   "metadata": {},
   "outputs": [],
   "source": [
    "# solução"
   ]
  }
 ],
 "metadata": {
  "kernelspec": {
   "display_name": "Python 3",
   "language": "python",
   "name": "python3"
  },
  "language_info": {
   "codemirror_mode": {
    "name": "ipython",
    "version": 3
   },
   "file_extension": ".py",
   "mimetype": "text/x-python",
   "name": "python",
   "nbconvert_exporter": "python",
   "pygments_lexer": "ipython3",
   "version": "3.7.5"
  }
 },
 "nbformat": 4,
 "nbformat_minor": 4
}
