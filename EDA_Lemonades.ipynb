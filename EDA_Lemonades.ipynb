{
 "cells": [
  {
   "cell_type": "markdown",
   "metadata": {},
   "source": [
    "# Análise Exploratória de Dados usando Pandas\n",
    "\n",
    "EDA é o processo de obter, preparar e apresentar dados com o objetivo de obter insights que direcionem o negócio de maneira eficiente e eficaz.\n",
    "\n",
    "<img src=\"assets/data_prep_pipeline.png\" />\n",
    "\n",
    "É o processo mais demorado, visto que exige atenção especial para preparar dados corretamente a fim de não produzir resultados enviesados ou mesmos incorretos. \n",
    "\n",
    "Vamos começar a analisar os dados mais básicos de um dataset simples. O objetivo aqui é se familiarizar com o pandas, criar funções e sedimentar o conteúdo já visto, preparando o terreno para os próximos assuntos que serão vistos. \n",
    "\n",
    "Documentação oficial do Pandas para consulta: [link](https://pandas.pydata.org/docs/user_guide/index.html#user-guide) "
   ]
  },
  {
   "cell_type": "markdown",
   "metadata": {},
   "source": [
    "## Pandas in a nutshell"
   ]
  },
  {
   "cell_type": "code",
   "execution_count": null,
   "metadata": {},
   "outputs": [],
   "source": [
    "import pandas as pd\n",
    "lemonades = pd.read_csv('bases/Lemonades.csv', sep = ';')\n",
    "\n",
    "lemonades.head(n=10) # mostra as n primeiras linhas do dataset - 5 é o padrão"
   ]
  },
  {
   "cell_type": "code",
   "execution_count": null,
   "metadata": {},
   "outputs": [],
   "source": [
    "lemonades.columns"
   ]
  },
  {
   "cell_type": "markdown",
   "metadata": {},
   "source": [
    "É sempre importante olhar os dados e fazer algumas indagações iniciais:\n",
    "> Quais os tipos de dados presentes no dataset? \n",
    "\n",
    "> Existem valores faltantes\n",
    "\n",
    "> Quantas colunas e quantas linhas estão presentes no dataset\n",
    "\n",
    "> Das colunas com valores numéricos, que estatísticas eu consigo obter? Soma, média, desvio padrão, etc..\n",
    "\n",
    "Vamos responder cada uma delas:"
   ]
  },
  {
   "cell_type": "code",
   "execution_count": null,
   "metadata": {},
   "outputs": [],
   "source": [
    "# os tipos de dados de cada coluna podem ser obtidos usando o método info()\n",
    "lemonades.info()"
   ]
  },
  {
   "cell_type": "markdown",
   "metadata": {},
   "source": [
    "Com esse método, foi possível saber se há ou não valores faltantes no dataset. Observando-o, vemos que faltam dados nas colunas Date e Leaflets. \n",
    "\n",
    "Para eximir qualquer duúvida a respeito, podemos usar outro método:"
   ]
  },
  {
   "cell_type": "code",
   "execution_count": null,
   "metadata": {},
   "outputs": [],
   "source": [
    "# retorna a soma dos valores faltantes em cada coluna do dataset. \n",
    "lemonades.isna().sum()"
   ]
  },
  {
   "cell_type": "markdown",
   "metadata": {},
   "source": [
    "A quantidade de linhas e colunas foi também mostrada ao usarmos o método info(). Entretanto, há maneiras mais simples de obter essa informação. \n",
    "\n",
    "Qual atributo poderíamos usar aqui que retornaria a quantidade de linhas e colunas?"
   ]
  },
  {
   "cell_type": "code",
   "execution_count": null,
   "metadata": {},
   "outputs": [],
   "source": [
    "#Resposta\n",
    "lemonades.shape"
   ]
  },
  {
   "cell_type": "code",
   "execution_count": null,
   "metadata": {},
   "outputs": [],
   "source": [
    "#localização\n",
    "#lemonades.loc[:,'Date'] # usando strings - todas as linhas da coluna Date\n",
    "lemonades.loc[1:6,'Date':'Location'] # selecionando linhas e colunas específicas"
   ]
  },
  {
   "cell_type": "markdown",
   "metadata": {},
   "source": [
    "Podemos escrever várias funções para obtermos as estatísticas básicas das colunas numéricas do nosso dataset. \n",
    "\n",
    "Exemplo:"
   ]
  },
  {
   "cell_type": "code",
   "execution_count": null,
   "metadata": {},
   "outputs": [],
   "source": [
    "def media(coluna):\n",
    "    return lemonades[coluna].sum()/len(lemonades)\n",
    "    \n",
    "media('Price')"
   ]
  },
  {
   "cell_type": "markdown",
   "metadata": {},
   "source": [
    "Entretanto, essa maneira não seria a mais apropriada (Pythonica). Qual método podemos usar para retornar as principais estatísticas de nosso dataset sem precisar escrever funções?"
   ]
  },
  {
   "cell_type": "code",
   "execution_count": null,
   "metadata": {},
   "outputs": [],
   "source": [
    "#resposta\n",
    "lemonades.describe()"
   ]
  },
  {
   "cell_type": "markdown",
   "metadata": {},
   "source": [
    "#### Dados categóricos\n",
    "\n",
    "Até agora, tratamos, principalmente, dados numéricos, porém, há em nosso dataset dados categóricos. Como podemos analisar o comportamento desses dados?"
   ]
  },
  {
   "cell_type": "code",
   "execution_count": null,
   "metadata": {},
   "outputs": [],
   "source": [
    "lemonades['Location'].value_counts()"
   ]
  },
  {
   "cell_type": "markdown",
   "metadata": {},
   "source": [
    "## Tratamento do Dataset\n",
    "\n",
    "Anteriormente, descobrimos que há elementos faltantes em nosso dataset. Algumas implicações podem ocorrer se treinarmos um modelo de machine learning em dados com essas inconsistências:\n",
    "> criar um viés nos dados\n",
    "\n",
    "> erro ao treinar um modelo de machine learning\n",
    "\n",
    "Além desse problema, há outro que devemos levar em consideração:linhas duplicadas. Vamos, passo a passo, resolver esses problemas."
   ]
  },
  {
   "cell_type": "markdown",
   "metadata": {},
   "source": [
    "### Lidando com dados faltantes"
   ]
  },
  {
   "cell_type": "code",
   "execution_count": null,
   "metadata": {},
   "outputs": [],
   "source": [
    "#verificando quais colunas possuem dados faltantes\n",
    "lemonades.isna().sum()"
   ]
  },
  {
   "cell_type": "markdown",
   "metadata": {},
   "source": [
    "Quando falamos de dados numéricos, uma maneira simples de tratar os dados faltantes é obter a média (ou mediana) dos valores presentes nessa coluna e preencher os dados faltantes com esse valor. \n",
    "\n",
    "Uma solução seria:"
   ]
  },
  {
   "cell_type": "code",
   "execution_count": null,
   "metadata": {},
   "outputs": [],
   "source": [
    "lemonades['Leaflets']"
   ]
  },
  {
   "cell_type": "code",
   "execution_count": null,
   "metadata": {},
   "outputs": [],
   "source": [
    "lemonades['Leaflets'].fillna((lemonades['Leaflets'].median()), inplace=True)\n",
    "#lemonades['Leaflets'] = lemonades['Leaflets'].fillna(lemonades['Leaflets'].median())"
   ]
  },
  {
   "cell_type": "code",
   "execution_count": null,
   "metadata": {},
   "outputs": [],
   "source": [
    "# verificando se o problema foi resolvido\n",
    "lemonades.isna().sum()"
   ]
  },
  {
   "cell_type": "markdown",
   "metadata": {},
   "source": [
    "Quando falamos, entretando, de data, o problema pode ser um pouco mais difícil de ser resolvido caso o formato não seja datetime. Se não for, precisamos antes converter para esse tipo e depois tratar os dados faltantes."
   ]
  },
  {
   "cell_type": "code",
   "execution_count": null,
   "metadata": {},
   "outputs": [],
   "source": [
    "# Verificando o tipo de dado presente na coluna Date\n",
    "lemonades['Date'].dtypes"
   ]
  },
  {
   "cell_type": "code",
   "execution_count": null,
   "metadata": {},
   "outputs": [],
   "source": [
    "lemonades.head(3)"
   ]
  },
  {
   "cell_type": "code",
   "execution_count": null,
   "metadata": {},
   "outputs": [],
   "source": [
    "from datetime import datetime\n",
    "#Convertendo para o formato correto\n",
    "lemonades['Date'] = pd.to_datetime(lemonades['Date'], format=\"%m/%d/%Y\")     \n",
    "\n",
    "# converte cada valor para segundos\n",
    "tmp = lemonades['Date'].apply(lambda t: (t-datetime(1970,1,1)).total_seconds())\n",
    "# faz a interpolação do valor faltante\n",
    "tmp.interpolate(inplace=True)    \n",
    "# converte de volta para data\n",
    "lemonades['Date'] = pd.to_datetime(tmp, unit='s') \n",
    "lemonades['Date'] = lemonades['Date'].apply(lambda t: t.date())\n",
    "#imprimindo para verificar\n",
    "lemonades"
   ]
  },
  {
   "cell_type": "markdown",
   "metadata": {},
   "source": [
    "Agora que tratamos todos os valores faltantes, precisamos lidar com os dados duplicados. O Pandas lida com isso de forma simples e intuitiva"
   ]
  },
  {
   "cell_type": "code",
   "execution_count": null,
   "metadata": {},
   "outputs": [],
   "source": [
    "# verificando se há dados duplicados\n",
    "lemonades[lemonades.duplicated()]"
   ]
  },
  {
   "cell_type": "code",
   "execution_count": null,
   "metadata": {},
   "outputs": [],
   "source": [
    "# eliminando os valores duplicados\n",
    "lemonades = lemonades.drop_duplicates()"
   ]
  },
  {
   "cell_type": "code",
   "execution_count": null,
   "metadata": {},
   "outputs": [],
   "source": [
    "# verificando se há dados duplicados\n",
    "lemonades[lemonades.duplicated()]"
   ]
  },
  {
   "cell_type": "code",
   "execution_count": null,
   "metadata": {},
   "outputs": [],
   "source": [
    "# para salvar a base corrigida\n",
    "lemonades.to_csv('resultado.csv', sep = ';')"
   ]
  },
  {
   "cell_type": "markdown",
   "metadata": {},
   "source": [
    "## Treinando a criação de funções\n",
    "\n",
    "Vamos criar algumas funções para retornar informações úteis para nossa análise. Antes, vamos preparar o dataset"
   ]
  },
  {
   "cell_type": "markdown",
   "metadata": {},
   "source": [
    "### 1) Adicione uma coluna chamada \"Sales\" que contém o total de vendas de limão e laranja"
   ]
  },
  {
   "cell_type": "code",
   "execution_count": null,
   "metadata": {},
   "outputs": [],
   "source": [
    "# Resposta"
   ]
  },
  {
   "cell_type": "markdown",
   "metadata": {},
   "source": [
    "### 2) Adicione uma coluna chamada \"Revenue\" que calcula o lucro (venda*preço)"
   ]
  },
  {
   "cell_type": "code",
   "execution_count": null,
   "metadata": {},
   "outputs": [],
   "source": [
    "# Resposta"
   ]
  },
  {
   "cell_type": "markdown",
   "metadata": {},
   "source": [
    "### 3) Escreva uma função que retorne o lucro total"
   ]
  },
  {
   "cell_type": "code",
   "execution_count": null,
   "metadata": {},
   "outputs": [],
   "source": [
    "# Resposta"
   ]
  },
  {
   "cell_type": "markdown",
   "metadata": {},
   "source": [
    "### 4) Escreva uma função que receba dois parâmetros, dataset e temp(int). Se temp for 1, ele retorna a máxima temperatura observada no conjunto de dados; se 0, retorna a média do período observado; se -1, retorna a temperatura mínima."
   ]
  },
  {
   "cell_type": "code",
   "execution_count": null,
   "metadata": {},
   "outputs": [],
   "source": [
    "# Resposta"
   ]
  },
  {
   "cell_type": "markdown",
   "metadata": {},
   "source": [
    "### 5) Escreva uma função que receba dois parâmetros (dataset, localização) e retorne o dataset com o preço do limão e laranja ajustados em 15% se a localização for 'Park' ou ajustados em 10% se a localização for 'Beach'."
   ]
  },
  {
   "cell_type": "code",
   "execution_count": null,
   "metadata": {},
   "outputs": [],
   "source": [
    "# Resposta"
   ]
  }
 ],
 "metadata": {
  "kernelspec": {
   "display_name": "Python 3",
   "language": "python",
   "name": "python3"
  },
  "language_info": {
   "codemirror_mode": {
    "name": "ipython",
    "version": 3
   },
   "file_extension": ".py",
   "mimetype": "text/x-python",
   "name": "python",
   "nbconvert_exporter": "python",
   "pygments_lexer": "ipython3",
   "version": "3.7.5"
  }
 },
 "nbformat": 4,
 "nbformat_minor": 4
}
