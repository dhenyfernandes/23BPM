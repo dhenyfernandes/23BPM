{
 "cells": [
  {
   "cell_type": "markdown",
   "metadata": {},
   "source": [
    "# Pandas e Visualização de Dados\n",
    "\n",
    "Uma importante ferramenta no processo exploratório de dados é a visualização. Vamos analisar o dataset pokemon, tratar os dados, realizar algumas operações e, depois, vamos obter insights a partir da visualização de dados. "
   ]
  },
  {
   "cell_type": "code",
   "execution_count": null,
   "metadata": {},
   "outputs": [],
   "source": [
    "import pandas as pd\n",
    "import matplotlib.pyplot as plt"
   ]
  },
  {
   "cell_type": "code",
   "execution_count": null,
   "metadata": {},
   "outputs": [],
   "source": [
    "# Faça a leitura do arquivo e armazene o DataFrame numa variável chamada poke\n",
    "poke = pd.read_csv('bases/Pokemon.csv')\n",
    "poke.head()"
   ]
  },
  {
   "cell_type": "code",
   "execution_count": null,
   "metadata": {},
   "outputs": [],
   "source": [
    "# imprime a quantidade de linhas e colunas presentes no DataFrame\n",
    "print(poke.shape)\n",
    "print('------------------------------------------\\n')\n",
    "\n",
    "# verifica e imprima as colunas que contêm valores faltantes\n",
    "print(poke.isna().sum())\n",
    "print('------------------------------------------\\n')\n",
    "\n",
    "# retorna as principais estatísticas das colunas numéricas\n",
    "poke.describe()"
   ]
  },
  {
   "cell_type": "code",
   "execution_count": null,
   "metadata": {},
   "outputs": [],
   "source": [
    "poke.info()"
   ]
  },
  {
   "cell_type": "markdown",
   "metadata": {},
   "source": [
    "Percebemos que a coluna Type 2 possui alguns valores faltantes. Não temos informações sobre como preencher essa coluna da maneira correta. Assim, em todo linha que houver um valor faltando na colune Type 2, esse valor será preenchido com o valor correspondente da coluna Type 1. \n",
    "\n",
    "Documentação da função: [link](https://pandas.pydata.org/pandas-docs/stable/reference/api/pandas.DataFrame.fillna.html)\n",
    "\n",
    "Exemplo de uso: [link](https://stackoverflow.com/questions/13295735/how-can-i-replace-all-the-nan-values-with-zeros-in-a-column-of-a-pandas-datafram)"
   ]
  },
  {
   "cell_type": "code",
   "execution_count": null,
   "metadata": {},
   "outputs": [],
   "source": [
    "poke['Type 2'].fillna(poke['Type 1'],inplace=True)\n",
    "poke.head()"
   ]
  },
  {
   "cell_type": "markdown",
   "metadata": {},
   "source": [
    "Para selecionarmos colunas específicas de um DataFrame podemos fazer df[df['coluna1','coluna2']]. Exemplo: criar um novo DataFrame a partir de poke que contenha apenas os pokemons que são lendários"
   ]
  },
  {
   "cell_type": "code",
   "execution_count": null,
   "metadata": {},
   "outputs": [],
   "source": [
    "lendarios = poke[poke['Legendary'] == True]\n",
    "lendarios.head()"
   ]
  },
  {
   "cell_type": "markdown",
   "metadata": {},
   "source": [
    "apply() é um poderoso método de vetorização, ou seja, permite a aplicação de uma função nos elementos de uma colunas de um DataFrame sem a necessidade de escrever laços de repetição. \n",
    "\n",
    "Veja alguns exemplos:"
   ]
  },
  {
   "cell_type": "code",
   "execution_count": null,
   "metadata": {},
   "outputs": [],
   "source": [
    "df = pd.DataFrame([[4, 9]] * 3, columns=['A', 'B'])\n",
    "df"
   ]
  },
  {
   "cell_type": "code",
   "execution_count": null,
   "metadata": {},
   "outputs": [],
   "source": [
    "import numpy as np\n",
    "# tirando a raiz quadrada de todos os elementos de df\n",
    "df.apply(np.sqrt)"
   ]
  },
  {
   "cell_type": "code",
   "execution_count": null,
   "metadata": {},
   "outputs": [],
   "source": [
    "# somando os elementos a partir das colunas\n",
    "df.apply(np.sum, axis=0)"
   ]
  },
  {
   "cell_type": "code",
   "execution_count": null,
   "metadata": {},
   "outputs": [],
   "source": [
    "# somando os elementos a partir das linhas\n",
    "df.apply(np.sum, axis=1)"
   ]
  },
  {
   "cell_type": "markdown",
   "metadata": {},
   "source": [
    "Podemos escrever uma função que passe para minúscula todos os elementos da coluna Name"
   ]
  },
  {
   "cell_type": "code",
   "execution_count": null,
   "metadata": {},
   "outputs": [],
   "source": [
    "format_str = lambda x: x.lower()\n",
    "poke['Name'] = poke['Name'].apply(format_str)\n",
    "poke.head()"
   ]
  },
  {
   "cell_type": "markdown",
   "metadata": {},
   "source": [
    "Agrupamento é uma ferramenta muito útil para fazer descobertas em nosso DataFrame. Preciso saber a representatividade de cada tipo (coluna Type 1) de pokemon e essa informação precisa ser retornada em ordem decrescente\n",
    "\n",
    "Você vai precisar dos seguintes métodos:\n",
    "> groupby [link](https://pandas.pydata.org/pandas-docs/stable/reference/api/pandas.DataFrame.groupby.html)\n",
    "\n",
    "> size [link](https://pandas.pydata.org/pandas-docs/stable/reference/api/pandas.DataFrame.size.html)\n",
    "\n",
    "> sort_values [link](https://pandas.pydata.org/pandas-docs/stable/reference/api/pandas.DataFrame.sort_values.html)"
   ]
  },
  {
   "cell_type": "code",
   "execution_count": null,
   "metadata": {},
   "outputs": [],
   "source": [
    "poke_ordered = poke.groupby(by = 'Type 1').size().sort_values(ascending = False)\n",
    "poke_ordered"
   ]
  },
  {
   "cell_type": "markdown",
   "metadata": {},
   "source": [
    "# Visualização de Dados"
   ]
  },
  {
   "cell_type": "markdown",
   "metadata": {},
   "source": [
    "Para visualização de dados, vamos utilizar a biblioteca matplotlib, que tem sua documentação no link: [matplotlib](https://matplotlib.org/)"
   ]
  },
  {
   "cell_type": "markdown",
   "metadata": {},
   "source": [
    "O matplotlib cria objetos do tipo Figure que irão armazenar as visualizações que iremos construir. Observe:"
   ]
  },
  {
   "cell_type": "code",
   "execution_count": null,
   "metadata": {},
   "outputs": [],
   "source": [
    "import matplotlib.pyplot as plt\n",
    "fig = plt.figure()\n",
    "ax1 = fig.add_subplot(2, 2, 1)\n",
    "ax2 = fig.add_subplot(2, 2, 2)\n",
    "ax3 = fig.add_subplot(2, 2, 3)"
   ]
  },
  {
   "cell_type": "markdown",
   "metadata": {},
   "source": [
    "Agora, podemos preencher esses objetos com dados, gerando, assim, gráficos:"
   ]
  },
  {
   "cell_type": "code",
   "execution_count": null,
   "metadata": {},
   "outputs": [],
   "source": [
    "import numpy as np\n",
    "from numpy.random import randn\n",
    "ax1.plot(randn(50).cumsum(), 'k--') #gráfico de linha\n",
    "ax2.hist(randn(100), bins=20, color='k', alpha=0.3)\n",
    "ax3.scatter(np.arange(30), np.arange(30) + 3 * randn(30))\n",
    "fig"
   ]
  },
  {
   "cell_type": "markdown",
   "metadata": {},
   "source": [
    "Nem sempre, entretando, precisamos criar o objeto primeiro para depois preencher com dados. Podemos armazenar os dados em variáveis e, então, a partir delas, construir nossos gráficos:"
   ]
  },
  {
   "cell_type": "code",
   "execution_count": null,
   "metadata": {},
   "outputs": [],
   "source": [
    "x = np.linspace(0, 2, 100)\n",
    "fig = plt.figure(); ax = fig.add_subplot(1, 1, 1)\n",
    "ax.plot(x, x, label='linear')\n",
    "ax.plot(x, x**2, label='quadratic')\n",
    "ax.plot(x, x**3, label='cubic')\n",
    "\n",
    "\n",
    "ax.legend()\n",
    "fig.savefig('simple_plot.png')"
   ]
  },
  {
   "cell_type": "markdown",
   "metadata": {},
   "source": [
    "Existem várias opções de ajustes visuais para os gráficos construídos com matplotlib. Observe os três gráficos a seguir:\n",
    "\n",
    "Documentação: [link](https://matplotlib.org/3.2.1/api/_as_gen/matplotlib.pyplot.plot.html?highlight=plot#matplotlib.pyplot.plot)"
   ]
  },
  {
   "cell_type": "code",
   "execution_count": null,
   "metadata": {},
   "outputs": [],
   "source": [
    "# cor, estilo da linha e marcadores\n",
    "plt.plot(randn(30).cumsum(), color='r', linestyle='dashed', marker='.')"
   ]
  },
  {
   "cell_type": "code",
   "execution_count": null,
   "metadata": {},
   "outputs": [],
   "source": [
    "# título, rótulo dos eixos, ticks e seus rótulos\n",
    "fig = plt.figure(); ax = fig.add_subplot(1, 1, 1)\n",
    "ax.plot(randn(1000).cumsum())\n",
    "ticks = ax.set_xticks([0, 250, 500, 750, 1000])\n",
    "labels = ax.set_xticklabels(['one', 'two', 'three', 'four', 'five'],\n",
    "                           rotation=30, fontsize='small')\n",
    "ax.set_title('My matplotlib plot')\n",
    "ax.set_xlabel('Stages')\n",
    "ax.set_ylabel('Eixo y')"
   ]
  },
  {
   "cell_type": "code",
   "execution_count": null,
   "metadata": {},
   "outputs": [],
   "source": [
    "# adicionando legenda\n",
    "fig = plt.figure(); ax = fig.add_subplot(1, 1, 1)\n",
    "ax.plot(randn(100).cumsum(), 'k', label='one')\n",
    "ax.plot(randn(100).cumsum(), 'b--', label='two')\n",
    "ax.plot(randn(100).cumsum(), 'g.', label='three')\n",
    "ax.legend(loc='best')"
   ]
  },
  {
   "cell_type": "markdown",
   "metadata": {},
   "source": [
    "### Tipos de Gráficos\n",
    "\n",
    "Além do gráfico de linha estamos trabalhando, há alguns outros que são interessantes conhecer. \n",
    "\n",
    "Na documentação oficial, há uma galeria de exemplos que mostra como se cria os mais diversos tipos de gráficos: [link](https://matplotlib.org/3.2.1/gallery/index.html)"
   ]
  },
  {
   "cell_type": "code",
   "execution_count": null,
   "metadata": {},
   "outputs": [],
   "source": [
    "# Gráfico de Barras\n",
    "from matplotlib.ticker import FuncFormatter\n",
    "x = np.arange(4)\n",
    "money = [1.5e5, 2.5e6, 5.5e6, 2.0e7]\n",
    "def millions(x, pos):\n",
    "    'valor e posição'\n",
    "    return '$%1.1fM' % (x * 1e-6)\n",
    "formatter = FuncFormatter(millions)\n",
    "\n",
    "fig, ax = plt.subplots()\n",
    "ax.yaxis.set_major_formatter(formatter)\n",
    "plt.bar(x, money)\n",
    "plt.xticks(x, ('Bill', 'Fred', 'Mary', 'Sue'))\n",
    "plt.show()"
   ]
  },
  {
   "cell_type": "code",
   "execution_count": null,
   "metadata": {},
   "outputs": [],
   "source": [
    "# Como enganar pessoas usando visualização\n",
    "mentions = [500, 505]\n",
    "years = [2013, 2014]\n",
    "plt.bar([2012.6, 2013.6], mentions, 0.8)\n",
    "plt.xticks(years)\n",
    "plt.ylabel(\"# of times I heard someone say 'data science'\")\n",
    "\n",
    "# misleading y-axis only shows the part above 500\n",
    "plt.axis([2012.5,2014.5,499,506])\n",
    "plt.title(\"Look at the 'Huge' Increase!\")\n",
    "plt.show()"
   ]
  },
  {
   "cell_type": "code",
   "execution_count": null,
   "metadata": {},
   "outputs": [],
   "source": [
    "mentions = [500, 505]\n",
    "years = [2013, 2014]\n",
    "plt.bar([2012.6, 2013.6], mentions, 0.8)\n",
    "plt.xticks(years)\n",
    "plt.ylabel(\"# of times I heard someone say 'data science'\")\n",
    "\n",
    "# misleading y-axis only shows the part above 500\n",
    "plt.axis([2012.5,2014.5,0,550])\n",
    "plt.title(\"Not so Huge Anymore\")\n",
    "plt.show()"
   ]
  },
  {
   "cell_type": "code",
   "execution_count": null,
   "metadata": {},
   "outputs": [],
   "source": [
    "# Histograma\n",
    "np.random.seed(19680801)\n",
    "\n",
    "mu, sigma = 100, 15\n",
    "x = mu + sigma * np.random.randn(10000)\n",
    "\n",
    "plt.hist(x, density=True, facecolor='g', alpha=0.75)\n",
    "\n",
    "\n",
    "plt.xlabel('Smarts')\n",
    "plt.ylabel('Probability')\n",
    "plt.title('Histogram of IQ')\n",
    "plt.text(60, .025, r'$\\mu=' + str(mu) + ',\\ \\sigma=15$')\n",
    "plt.axis([40, 160, 0, 0.03])\n",
    "plt.grid(True)\n",
    "plt.show()"
   ]
  },
  {
   "cell_type": "code",
   "execution_count": null,
   "metadata": {},
   "outputs": [],
   "source": [
    "# Scatter-plot\n",
    "pontos_f = [89, 90, 70, 89, 100, 80, 90, 100, 80, 34]\n",
    "pontos_m = [30, 29, 49, 48, 100, 48, 38, 45, 20, 30]\n",
    "range_pontos = [10, 20, 30, 40, 50, 60, 70, 80, 90, 100]\n",
    "feminino = plt.scatter(range_pontos, pontos_f, color='r')\n",
    "masculino = plt.scatter(range_pontos, pontos_m, color='g')\n",
    "plt.xlabel('Range de Pontos')\n",
    "plt.ylabel('Pontos')\n",
    "plt.legend((feminino, masculino),('feminino','masculino'),loc='best')\n",
    "plt.show()"
   ]
  },
  {
   "cell_type": "markdown",
   "metadata": {},
   "source": [
    "# TODO\n",
    "\n",
    "Agora que entendemos como os gráficos são construídos, vamos praticar. A ideia é ter insights visuais a respeito do dataset que estamos trabalhando."
   ]
  },
  {
   "cell_type": "markdown",
   "metadata": {},
   "source": [
    "### 1) crie uma função que receba o dataset e o atributo e retorne um histograma que mostre a distribuição do valor dos atributos “attack”, “defense”,”Sp.Atk”, “Sp.Def” e “Speed”. Insira uma linha indicando o valor médio do atributo."
   ]
  },
  {
   "cell_type": "code",
   "execution_count": null,
   "metadata": {},
   "outputs": [],
   "source": [
    "# Resposta"
   ]
  },
  {
   "cell_type": "markdown",
   "metadata": {},
   "source": [
    "### 2) crie um scatter plot comparando ataque (eixo x) e defesa (eixo y) de pokemons dos tipos Fire e Water."
   ]
  },
  {
   "cell_type": "code",
   "execution_count": null,
   "metadata": {},
   "outputs": [],
   "source": [
    "# Resposta"
   ]
  },
  {
   "cell_type": "markdown",
   "metadata": {},
   "source": [
    "###  3) crie um gráfico de linha para comparar a quantidade de pokemons de cada tipo ao longo das gerações"
   ]
  },
  {
   "cell_type": "code",
   "execution_count": null,
   "metadata": {},
   "outputs": [],
   "source": [
    "# Resposta"
   ]
  }
 ],
 "metadata": {
  "kernelspec": {
   "display_name": "Python 3",
   "language": "python",
   "name": "python3"
  },
  "language_info": {
   "codemirror_mode": {
    "name": "ipython",
    "version": 3
   },
   "file_extension": ".py",
   "mimetype": "text/x-python",
   "name": "python",
   "nbconvert_exporter": "python",
   "pygments_lexer": "ipython3",
   "version": "3.7.5"
  }
 },
 "nbformat": 4,
 "nbformat_minor": 4
}
